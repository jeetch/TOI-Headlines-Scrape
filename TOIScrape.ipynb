{
  "nbformat": 4,
  "nbformat_minor": 0,
  "metadata": {
    "colab": {
      "name": "TOIScrape.ipynb",
      "provenance": [],
      "collapsed_sections": []
    },
    "kernelspec": {
      "name": "python3",
      "display_name": "Python 3"
    }
  },
  "cells": [
    {
      "cell_type": "code",
      "metadata": {
        "id": "w8vLRYS-LKl9"
      },
      "source": [
        "import requests \n",
        "from bs4 import BeautifulSoup \n",
        "#import csv \n",
        "\n",
        "\n",
        "import datetime\n",
        "import pandas as pd\n",
        "import numpy as np"
      ],
      "execution_count": 1,
      "outputs": []
    },
    {
      "cell_type": "code",
      "metadata": {
        "id": "2juBSm0KVgjJ"
      },
      "source": [
        "data = []"
      ],
      "execution_count": 2,
      "outputs": []
    },
    {
      "cell_type": "code",
      "metadata": {
        "id": "aQ2xmICYVsaG"
      },
      "source": [
        "#data.columns = ['Year','Month','Day','Headlines']"
      ],
      "execution_count": 3,
      "outputs": []
    },
    {
      "cell_type": "code",
      "metadata": {
        "id": "pvtFsH6fSad7",
        "colab": {
          "base_uri": "https://localhost:8080/"
        },
        "outputId": "6334465b-0c2b-48e0-8543-784184325a4d"
      },
      "source": [
        "#date = datetime.datetime(2019,12,31)\n",
        "date = datetime.datetime(2020,9,9)\n",
        "#const = 40178\n",
        "#const = 43830\n",
        "const = 44083\n",
        "for i in range(74) :  \n",
        "  date = date + datetime.timedelta(days=1)\n",
        "  const = const+1\n",
        "  year = date.year\n",
        "  month = date.month\n",
        "  day = date.day\n",
        "  url = \"https://timesofindia.indiatimes.com/\"+str(date.year)+\"/\"+str(date.month)+\"/\"+str(date.day)+\"/archivelist/year-\"+str(date.year)+\",month-\"+str(date.month)+\",starttime-\"+str(const)+\".cms\"\n",
        "  \n",
        "  r = requests.get(url) \n",
        "   \n",
        "  soup = BeautifulSoup(r.content, 'html5lib')\n",
        "\n",
        "  links = soup.find_all(\"span\",{'style' : \"font-family:arial ;font-size:12;color: #006699\"})\n",
        "\n",
        "  soup1 = links[0]\n",
        "  soup2 = links[1]\n",
        "\n",
        "  for a in soup1.find_all('a') :\n",
        "    row = [year, month, day, a.get_text()]\n",
        "    data.append(row)\n",
        "  for a in soup2.find_all('a') :\n",
        "    row = [year, month, day, a.get_text()]\n",
        "    data.append(row)\n",
        "\n",
        "  if (i%100 == 0) :\n",
        "    print(f\"---- {i} ----\")"
      ],
      "execution_count": 4,
      "outputs": [
        {
          "output_type": "stream",
          "text": [
            "---- 0 ----\n"
          ],
          "name": "stdout"
        }
      ]
    },
    {
      "cell_type": "code",
      "metadata": {
        "id": "web68pmcLTsc"
      },
      "source": [
        "# #URL = \"https://timesofindia.indiatimes.com/2020/1/31/archivelist/year-2020,month-1,starttime-43861.cms\"\n",
        "# r = requests.get(url) \n",
        "   \n",
        "# soup = BeautifulSoup(r.content, 'html5lib')"
      ],
      "execution_count": 5,
      "outputs": []
    },
    {
      "cell_type": "code",
      "metadata": {
        "id": "Ci7-oX8BLdBo"
      },
      "source": [
        "# links = soup.find_all(\"span\",{'style' : \"font-family:arial ;font-size:12;color: #006699\"})\n",
        "#style=\"font-family:arial ;font-size:12;color: #006699\""
      ],
      "execution_count": 6,
      "outputs": []
    },
    {
      "cell_type": "code",
      "metadata": {
        "id": "3iDp48u3LiHx"
      },
      "source": [
        "# soup1 = links[0]\n",
        "# soup2 = links[1]"
      ],
      "execution_count": 7,
      "outputs": []
    },
    {
      "cell_type": "code",
      "metadata": {
        "id": "xg6NX8FUEvAK"
      },
      "source": [
        "# dataset = pd.DataFrame()\n",
        "# dataset.columns "
      ],
      "execution_count": 8,
      "outputs": []
    },
    {
      "cell_type": "code",
      "metadata": {
        "id": "aRqOxk6pOJ8n"
      },
      "source": [
        "# i = 0\n",
        "# for a in soup2.find_all('a') :\n",
        "#   row = [year, month, day, a.get_text()]\n",
        "#   data.append(row)\n",
        "#   i = i+1"
      ],
      "execution_count": 9,
      "outputs": []
    },
    {
      "cell_type": "code",
      "metadata": {
        "id": "wtfB9Z1BXeHJ"
      },
      "source": [
        "data1 = np.array(data)"
      ],
      "execution_count": 10,
      "outputs": []
    },
    {
      "cell_type": "code",
      "metadata": {
        "id": "wlpSWBOHYO0p",
        "colab": {
          "base_uri": "https://localhost:8080/"
        },
        "outputId": "61136e30-3075-4a81-e980-62cd0008431a"
      },
      "source": [
        "data1.shape"
      ],
      "execution_count": 11,
      "outputs": [
        {
          "output_type": "execute_result",
          "data": {
            "text/plain": [
              "(36859, 4)"
            ]
          },
          "metadata": {
            "tags": []
          },
          "execution_count": 11
        }
      ]
    },
    {
      "cell_type": "code",
      "metadata": {
        "id": "A-COe48lZYHo"
      },
      "source": [
        "dataset = pd.DataFrame(data1)"
      ],
      "execution_count": 12,
      "outputs": []
    },
    {
      "cell_type": "code",
      "metadata": {
        "id": "wZJO5NkZZYGB"
      },
      "source": [
        "dataset.columns = ['year','month','day','headlines']"
      ],
      "execution_count": 13,
      "outputs": []
    },
    {
      "cell_type": "code",
      "metadata": {
        "id": "_z2wlmMRXDqb",
        "colab": {
          "base_uri": "https://localhost:8080/",
          "height": 419
        },
        "outputId": "7cc9e0cb-b895-4d3f-9517-447572d09a00"
      },
      "source": [
        "dataset"
      ],
      "execution_count": 14,
      "outputs": [
        {
          "output_type": "execute_result",
          "data": {
            "text/html": [
              "<div>\n",
              "<style scoped>\n",
              "    .dataframe tbody tr th:only-of-type {\n",
              "        vertical-align: middle;\n",
              "    }\n",
              "\n",
              "    .dataframe tbody tr th {\n",
              "        vertical-align: top;\n",
              "    }\n",
              "\n",
              "    .dataframe thead th {\n",
              "        text-align: right;\n",
              "    }\n",
              "</style>\n",
              "<table border=\"1\" class=\"dataframe\">\n",
              "  <thead>\n",
              "    <tr style=\"text-align: right;\">\n",
              "      <th></th>\n",
              "      <th>year</th>\n",
              "      <th>month</th>\n",
              "      <th>day</th>\n",
              "      <th>headlines</th>\n",
              "    </tr>\n",
              "  </thead>\n",
              "  <tbody>\n",
              "    <tr>\n",
              "      <th>0</th>\n",
              "      <td>2020</td>\n",
              "      <td>9</td>\n",
              "      <td>10</td>\n",
              "      <td>Samantha Akkineni just turned designer and we ...</td>\n",
              "    </tr>\n",
              "    <tr>\n",
              "      <th>1</th>\n",
              "      <td>2020</td>\n",
              "      <td>9</td>\n",
              "      <td>10</td>\n",
              "      <td>#KolkataBraveheart: Was a victim of domestic v...</td>\n",
              "    </tr>\n",
              "    <tr>\n",
              "      <th>2</th>\n",
              "      <td>2020</td>\n",
              "      <td>9</td>\n",
              "      <td>10</td>\n",
              "      <td>Prabhu Mundkur dons an intense look in Pradeep...</td>\n",
              "    </tr>\n",
              "    <tr>\n",
              "      <th>3</th>\n",
              "      <td>2020</td>\n",
              "      <td>9</td>\n",
              "      <td>10</td>\n",
              "      <td>Salman Khan shares a picture himself enjoying ...</td>\n",
              "    </tr>\n",
              "    <tr>\n",
              "      <th>4</th>\n",
              "      <td>2020</td>\n",
              "      <td>9</td>\n",
              "      <td>10</td>\n",
              "      <td>CM Yediyurappa to help Sandalwood find its foo...</td>\n",
              "    </tr>\n",
              "    <tr>\n",
              "      <th>...</th>\n",
              "      <td>...</td>\n",
              "      <td>...</td>\n",
              "      <td>...</td>\n",
              "      <td>...</td>\n",
              "    </tr>\n",
              "    <tr>\n",
              "      <th>36854</th>\n",
              "      <td>2020</td>\n",
              "      <td>11</td>\n",
              "      <td>22</td>\n",
              "      <td>Blackmail probe reveals rape horror of Rajkot ...</td>\n",
              "    </tr>\n",
              "    <tr>\n",
              "      <th>36855</th>\n",
              "      <td>2020</td>\n",
              "      <td>11</td>\n",
              "      <td>22</td>\n",
              "      <td>Doctors link obesity with higher risk of death...</td>\n",
              "    </tr>\n",
              "    <tr>\n",
              "      <th>36856</th>\n",
              "      <td>2020</td>\n",
              "      <td>11</td>\n",
              "      <td>22</td>\n",
              "      <td>Theft accused flees Covid ward of Bharuch civi...</td>\n",
              "    </tr>\n",
              "    <tr>\n",
              "      <th>36857</th>\n",
              "      <td>2020</td>\n",
              "      <td>11</td>\n",
              "      <td>22</td>\n",
              "      <td>Shops violating Covid norms land in trouble</td>\n",
              "    </tr>\n",
              "    <tr>\n",
              "      <th>36858</th>\n",
              "      <td>2020</td>\n",
              "      <td>11</td>\n",
              "      <td>22</td>\n",
              "      <td>Karnataka govt lifts 50 per cent bed-sharing r...</td>\n",
              "    </tr>\n",
              "  </tbody>\n",
              "</table>\n",
              "<p>36859 rows × 4 columns</p>\n",
              "</div>"
            ],
            "text/plain": [
              "       year month day                                          headlines\n",
              "0      2020     9  10  Samantha Akkineni just turned designer and we ...\n",
              "1      2020     9  10  #KolkataBraveheart: Was a victim of domestic v...\n",
              "2      2020     9  10  Prabhu Mundkur dons an intense look in Pradeep...\n",
              "3      2020     9  10  Salman Khan shares a picture himself enjoying ...\n",
              "4      2020     9  10  CM Yediyurappa to help Sandalwood find its foo...\n",
              "...     ...   ...  ..                                                ...\n",
              "36854  2020    11  22  Blackmail probe reveals rape horror of Rajkot ...\n",
              "36855  2020    11  22  Doctors link obesity with higher risk of death...\n",
              "36856  2020    11  22  Theft accused flees Covid ward of Bharuch civi...\n",
              "36857  2020    11  22        Shops violating Covid norms land in trouble\n",
              "36858  2020    11  22  Karnataka govt lifts 50 per cent bed-sharing r...\n",
              "\n",
              "[36859 rows x 4 columns]"
            ]
          },
          "metadata": {
            "tags": []
          },
          "execution_count": 14
        }
      ]
    },
    {
      "cell_type": "code",
      "metadata": {
        "id": "RnaZn7MfX8W5"
      },
      "source": [
        "dataset.to_csv('2020_headlines_9_9.csv')"
      ],
      "execution_count": 15,
      "outputs": []
    },
    {
      "cell_type": "code",
      "metadata": {
        "id": "9FBDQTVaXhCt"
      },
      "source": [
        "dataset['contains_covid'] = dataset.headlines.apply(lambda x: 1 if (('covid' in x.lower()) or ('corona' in x.lower())) else 0)"
      ],
      "execution_count": 16,
      "outputs": []
    },
    {
      "cell_type": "code",
      "metadata": {
        "id": "UWh47wOJW2gn",
        "colab": {
          "base_uri": "https://localhost:8080/",
          "height": 419
        },
        "outputId": "e785f764-1a63-4327-85ca-ce73acf316a3"
      },
      "source": [
        "dataset[dataset['contains_covid']==1]"
      ],
      "execution_count": 17,
      "outputs": [
        {
          "output_type": "execute_result",
          "data": {
            "text/html": [
              "<div>\n",
              "<style scoped>\n",
              "    .dataframe tbody tr th:only-of-type {\n",
              "        vertical-align: middle;\n",
              "    }\n",
              "\n",
              "    .dataframe tbody tr th {\n",
              "        vertical-align: top;\n",
              "    }\n",
              "\n",
              "    .dataframe thead th {\n",
              "        text-align: right;\n",
              "    }\n",
              "</style>\n",
              "<table border=\"1\" class=\"dataframe\">\n",
              "  <thead>\n",
              "    <tr style=\"text-align: right;\">\n",
              "      <th></th>\n",
              "      <th>year</th>\n",
              "      <th>month</th>\n",
              "      <th>day</th>\n",
              "      <th>headlines</th>\n",
              "      <th>contains_covid</th>\n",
              "    </tr>\n",
              "  </thead>\n",
              "  <tbody>\n",
              "    <tr>\n",
              "      <th>77</th>\n",
              "      <td>2020</td>\n",
              "      <td>9</td>\n",
              "      <td>10</td>\n",
              "      <td>SMS-based Covid test report mechanism hits tec...</td>\n",
              "      <td>1</td>\n",
              "    </tr>\n",
              "    <tr>\n",
              "      <th>79</th>\n",
              "      <td>2020</td>\n",
              "      <td>9</td>\n",
              "      <td>10</td>\n",
              "      <td>Health dept issues SoPs for exams to check Cov...</td>\n",
              "      <td>1</td>\n",
              "    </tr>\n",
              "    <tr>\n",
              "      <th>87</th>\n",
              "      <td>2020</td>\n",
              "      <td>9</td>\n",
              "      <td>10</td>\n",
              "      <td>Event management companies go virtual, conduct...</td>\n",
              "      <td>1</td>\n",
              "    </tr>\n",
              "    <tr>\n",
              "      <th>91</th>\n",
              "      <td>2020</td>\n",
              "      <td>9</td>\n",
              "      <td>10</td>\n",
              "      <td>Covid-19, infections take toll on mental health</td>\n",
              "      <td>1</td>\n",
              "    </tr>\n",
              "    <tr>\n",
              "      <th>98</th>\n",
              "      <td>2020</td>\n",
              "      <td>9</td>\n",
              "      <td>10</td>\n",
              "      <td>Even WHO, ICMR faltered on Covid: Telangana CM</td>\n",
              "      <td>1</td>\n",
              "    </tr>\n",
              "    <tr>\n",
              "      <th>...</th>\n",
              "      <td>...</td>\n",
              "      <td>...</td>\n",
              "      <td>...</td>\n",
              "      <td>...</td>\n",
              "      <td>...</td>\n",
              "    </tr>\n",
              "    <tr>\n",
              "      <th>36848</th>\n",
              "      <td>2020</td>\n",
              "      <td>11</td>\n",
              "      <td>22</td>\n",
              "      <td>Daily Covid cases just under 6,000 in Delhi, b...</td>\n",
              "      <td>1</td>\n",
              "    </tr>\n",
              "    <tr>\n",
              "      <th>36853</th>\n",
              "      <td>2020</td>\n",
              "      <td>11</td>\n",
              "      <td>22</td>\n",
              "      <td>Covid-19: Highest number of tests in a day in ...</td>\n",
              "      <td>1</td>\n",
              "    </tr>\n",
              "    <tr>\n",
              "      <th>36855</th>\n",
              "      <td>2020</td>\n",
              "      <td>11</td>\n",
              "      <td>22</td>\n",
              "      <td>Doctors link obesity with higher risk of death...</td>\n",
              "      <td>1</td>\n",
              "    </tr>\n",
              "    <tr>\n",
              "      <th>36856</th>\n",
              "      <td>2020</td>\n",
              "      <td>11</td>\n",
              "      <td>22</td>\n",
              "      <td>Theft accused flees Covid ward of Bharuch civi...</td>\n",
              "      <td>1</td>\n",
              "    </tr>\n",
              "    <tr>\n",
              "      <th>36857</th>\n",
              "      <td>2020</td>\n",
              "      <td>11</td>\n",
              "      <td>22</td>\n",
              "      <td>Shops violating Covid norms land in trouble</td>\n",
              "      <td>1</td>\n",
              "    </tr>\n",
              "  </tbody>\n",
              "</table>\n",
              "<p>3687 rows × 5 columns</p>\n",
              "</div>"
            ],
            "text/plain": [
              "       year  ... contains_covid\n",
              "77     2020  ...              1\n",
              "79     2020  ...              1\n",
              "87     2020  ...              1\n",
              "91     2020  ...              1\n",
              "98     2020  ...              1\n",
              "...     ...  ...            ...\n",
              "36848  2020  ...              1\n",
              "36853  2020  ...              1\n",
              "36855  2020  ...              1\n",
              "36856  2020  ...              1\n",
              "36857  2020  ...              1\n",
              "\n",
              "[3687 rows x 5 columns]"
            ]
          },
          "metadata": {
            "tags": []
          },
          "execution_count": 17
        }
      ]
    },
    {
      "cell_type": "code",
      "metadata": {
        "id": "8hsIcsA6W5EJ"
      },
      "source": [
        "df = dataset.groupby(['year','month','day'])['contains_covid'].sum().reset_index()"
      ],
      "execution_count": 18,
      "outputs": []
    },
    {
      "cell_type": "code",
      "metadata": {
        "id": "5uU05-IrXnpg"
      },
      "source": [
        "df['date'] = pd.to_datetime(dataset[[\"year\", \"month\", \"day\"]])"
      ],
      "execution_count": 19,
      "outputs": []
    },
    {
      "cell_type": "code",
      "metadata": {
        "id": "qOJT-FkxaCIa",
        "colab": {
          "base_uri": "https://localhost:8080/",
          "height": 419
        },
        "outputId": "12d5928d-e8d9-4289-e61c-dd294931e1d3"
      },
      "source": [
        "df"
      ],
      "execution_count": 20,
      "outputs": [
        {
          "output_type": "execute_result",
          "data": {
            "text/html": [
              "<div>\n",
              "<style scoped>\n",
              "    .dataframe tbody tr th:only-of-type {\n",
              "        vertical-align: middle;\n",
              "    }\n",
              "\n",
              "    .dataframe tbody tr th {\n",
              "        vertical-align: top;\n",
              "    }\n",
              "\n",
              "    .dataframe thead th {\n",
              "        text-align: right;\n",
              "    }\n",
              "</style>\n",
              "<table border=\"1\" class=\"dataframe\">\n",
              "  <thead>\n",
              "    <tr style=\"text-align: right;\">\n",
              "      <th></th>\n",
              "      <th>year</th>\n",
              "      <th>month</th>\n",
              "      <th>day</th>\n",
              "      <th>contains_covid</th>\n",
              "      <th>date</th>\n",
              "    </tr>\n",
              "  </thead>\n",
              "  <tbody>\n",
              "    <tr>\n",
              "      <th>0</th>\n",
              "      <td>2020</td>\n",
              "      <td>10</td>\n",
              "      <td>1</td>\n",
              "      <td>48</td>\n",
              "      <td>2020-09-10</td>\n",
              "    </tr>\n",
              "    <tr>\n",
              "      <th>1</th>\n",
              "      <td>2020</td>\n",
              "      <td>10</td>\n",
              "      <td>10</td>\n",
              "      <td>42</td>\n",
              "      <td>2020-09-10</td>\n",
              "    </tr>\n",
              "    <tr>\n",
              "      <th>2</th>\n",
              "      <td>2020</td>\n",
              "      <td>10</td>\n",
              "      <td>11</td>\n",
              "      <td>47</td>\n",
              "      <td>2020-09-10</td>\n",
              "    </tr>\n",
              "    <tr>\n",
              "      <th>3</th>\n",
              "      <td>2020</td>\n",
              "      <td>10</td>\n",
              "      <td>12</td>\n",
              "      <td>53</td>\n",
              "      <td>2020-09-10</td>\n",
              "    </tr>\n",
              "    <tr>\n",
              "      <th>4</th>\n",
              "      <td>2020</td>\n",
              "      <td>10</td>\n",
              "      <td>13</td>\n",
              "      <td>49</td>\n",
              "      <td>2020-09-10</td>\n",
              "    </tr>\n",
              "    <tr>\n",
              "      <th>...</th>\n",
              "      <td>...</td>\n",
              "      <td>...</td>\n",
              "      <td>...</td>\n",
              "      <td>...</td>\n",
              "      <td>...</td>\n",
              "    </tr>\n",
              "    <tr>\n",
              "      <th>69</th>\n",
              "      <td>2020</td>\n",
              "      <td>9</td>\n",
              "      <td>26</td>\n",
              "      <td>54</td>\n",
              "      <td>2020-09-10</td>\n",
              "    </tr>\n",
              "    <tr>\n",
              "      <th>70</th>\n",
              "      <td>2020</td>\n",
              "      <td>9</td>\n",
              "      <td>27</td>\n",
              "      <td>56</td>\n",
              "      <td>2020-09-10</td>\n",
              "    </tr>\n",
              "    <tr>\n",
              "      <th>71</th>\n",
              "      <td>2020</td>\n",
              "      <td>9</td>\n",
              "      <td>28</td>\n",
              "      <td>70</td>\n",
              "      <td>2020-09-10</td>\n",
              "    </tr>\n",
              "    <tr>\n",
              "      <th>72</th>\n",
              "      <td>2020</td>\n",
              "      <td>9</td>\n",
              "      <td>29</td>\n",
              "      <td>60</td>\n",
              "      <td>2020-09-10</td>\n",
              "    </tr>\n",
              "    <tr>\n",
              "      <th>73</th>\n",
              "      <td>2020</td>\n",
              "      <td>9</td>\n",
              "      <td>30</td>\n",
              "      <td>64</td>\n",
              "      <td>2020-09-10</td>\n",
              "    </tr>\n",
              "  </tbody>\n",
              "</table>\n",
              "<p>74 rows × 5 columns</p>\n",
              "</div>"
            ],
            "text/plain": [
              "    year month day  contains_covid       date\n",
              "0   2020    10   1              48 2020-09-10\n",
              "1   2020    10  10              42 2020-09-10\n",
              "2   2020    10  11              47 2020-09-10\n",
              "3   2020    10  12              53 2020-09-10\n",
              "4   2020    10  13              49 2020-09-10\n",
              "..   ...   ...  ..             ...        ...\n",
              "69  2020     9  26              54 2020-09-10\n",
              "70  2020     9  27              56 2020-09-10\n",
              "71  2020     9  28              70 2020-09-10\n",
              "72  2020     9  29              60 2020-09-10\n",
              "73  2020     9  30              64 2020-09-10\n",
              "\n",
              "[74 rows x 5 columns]"
            ]
          },
          "metadata": {
            "tags": []
          },
          "execution_count": 20
        }
      ]
    },
    {
      "cell_type": "code",
      "metadata": {
        "id": "TwtGlluEZeYB",
        "colab": {
          "base_uri": "https://localhost:8080/",
          "height": 374
        },
        "outputId": "93ef8113-1a7d-4f6b-8844-3c117c8d620b"
      },
      "source": [
        "import numpy as np\n",
        "import matplotlib.pyplot as plt\n",
        "import datetime\n",
        "\n",
        "df.plot.bar(x=\"date\", y=\"contains_covid\", color='blue');"
      ],
      "execution_count": 21,
      "outputs": [
        {
          "output_type": "display_data",
          "data": {
            "image/png": "[encoded data removed]",
            "text/plain": [
              "<Figure size 432x288 with 1 Axes>"
            ]
          },
          "metadata": {
            "tags": [],
            "needs_background": "light"
          }
        }
      ]
    },
    {
      "cell_type": "code",
      "metadata": {
        "id": "C1vAWK7VZfuf"
      },
      "source": [
        "df.to_csv('datewise_covid_mention_sep.csv')"
      ],
      "execution_count": 22,
      "outputs": []
    },
    {
      "cell_type": "code",
      "metadata": {
        "id": "GiH9QTIjax0u"
      },
      "source": [
        ""
      ],
      "execution_count": null,
      "outputs": []
    }
  ]
}